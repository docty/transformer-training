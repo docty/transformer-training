{
  "cells": [
    {
      "cell_type": "code",
      "execution_count": null,
      "metadata": {
        "id": "5AwG0F1V9B0l"
      },
      "outputs": [],
      "source": [
        "from huggingface_hub import login\n",
        "\n",
        "login('')"
      ]
    },
    {
      "cell_type": "code",
      "execution_count": null,
      "metadata": {
        "id": "xHSCxxm79B0T"
      },
      "outputs": [],
      "source": [
        "!git clone https://github.com/docty/transformer-training.git"
      ]
    },
    {
      "cell_type": "code",
      "source": [
        "%cd transformer-training/"
      ],
      "metadata": {
        "id": "Z3f2xbYeT94G"
      },
      "execution_count": null,
      "outputs": []
    },
    {
      "cell_type": "code",
      "source": [
        "#!git clone https://huggingface.co/Docty/{MODEL_ID}"
      ],
      "metadata": {
        "id": "DjSe4NGvd98M"
      },
      "execution_count": null,
      "outputs": []
    },
    {
      "cell_type": "code",
      "execution_count": null,
      "metadata": {
        "id": "3ATal9w59B0e"
      },
      "outputs": [],
      "source": [
        "!pip install -q evaluate datasets torchvision transformers hf_xet"
      ]
    },
    {
      "cell_type": "code",
      "execution_count": null,
      "metadata": {
        "id": "XyCR_EkB9B0g"
      },
      "outputs": [],
      "source": [
        "import os\n",
        "os.environ[\"WANDB_DISABLED\"] = \"true\""
      ]
    },
    {
      "cell_type": "code",
      "execution_count": null,
      "metadata": {
        "id": "7hyUwp52AHRE"
      },
      "outputs": [],
      "source": [
        "PRETRAINED_MODEL = \"google/vit-base-patch16-224-in21k\"\n",
        "DATASET_NAME = \"Docty/solaices\"\n",
        "OUTPUT_DIR=\"./solacies/\""
      ]
    },
    {
      "cell_type": "code",
      "execution_count": null,
      "metadata": {
        "id": "yrZm5wLzJ0nq"
      },
      "outputs": [],
      "source": [
        "from datasets import load_dataset\n",
        "import os\n",
        "\n",
        "def download_samples(DATASET_NAME, DATASET_SAMPLE = \"images_samples\"):\n",
        "  dataset = load_dataset(DATASET_NAME)\n",
        "  label_names = dataset[\"train\"].features[\"label\"].names\n",
        "\n",
        "  os.makedirs(DATASET_SAMPLE, exist_ok=True)\n",
        "\n",
        "  examples = {}\n",
        "\n",
        "  for sample in dataset[\"train\"]:\n",
        "      label = sample[\"label\"]\n",
        "      image = sample[\"image\"]\n",
        "      if label not in examples:\n",
        "          examples[label] = sample\n",
        "          image.save(os.path.join(DATASET_SAMPLE, f\"{label}.jpg\"))\n",
        "      if len(examples) == len(label_names):\n",
        "          break"
      ]
    },
    {
      "cell_type": "code",
      "source": [
        "download_samples(DATASET_NAME)"
      ],
      "metadata": {
        "id": "ljpGkQKcQbe7"
      },
      "execution_count": null,
      "outputs": []
    },
    {
      "cell_type": "markdown",
      "metadata": {
        "id": "FCKgEUzMJ3QX"
      },
      "source": [
        "# Training"
      ]
    },
    {
      "cell_type": "code",
      "execution_count": null,
      "metadata": {
        "id": "GeVZkE4H9B0j"
      },
      "outputs": [],
      "source": [
        "!python {os.getcwd()}/image_classification.py \\\n",
        "    --model_name_or_path \"$PRETRAINED_MODEL\" \\\n",
        "    --dataset_name \"$DATASET_NAME\" \\\n",
        "    --output_dir \"$OUTPUT_DIR\"   \\\n",
        "    --remove_unused_columns False \\\n",
        "    --label_column_name label \\\n",
        "    --do_train \\\n",
        "    --do_eval \\\n",
        "    --learning_rate 2e-5 \\\n",
        "    --num_train_epochs 2 \\\n",
        "    --per_device_train_batch_size 8 \\\n",
        "    --per_device_eval_batch_size 8 \\\n",
        "    --logging_strategy steps \\\n",
        "    --logging_steps 10 \\\n",
        "    --eval_strategy epoch \\\n",
        "    --save_strategy epoch \\\n",
        "    --load_best_model_at_end True \\\n",
        "    --save_total_limit 3 \\\n",
        "    --seed 1337 \\\n",
        "    --push_to_hub \\\n",
        "    --report_to none"
      ]
    },
    {
      "cell_type": "markdown",
      "metadata": {
        "id": "zIh_pm-QJolX"
      },
      "source": [
        "# Inference"
      ]
    },
    {
      "cell_type": "code",
      "execution_count": null,
      "metadata": {
        "id": "W1S7ulGo9B0n"
      },
      "outputs": [],
      "source": [
        "from PIL import Image\n",
        "from transformers import pipeline\n",
        "import random\n",
        "\n",
        "item = random.choice(os.listdir('./images_samples'))\n",
        "print(item)\n",
        "img = Image.open(f\"./images_samples/{item}\")\n",
        "classifier = pipeline(\"image-classification\", model=OUTPUT_DIR)\n",
        "classifier(img)\n"
      ]
    },
    {
      "cell_type": "code",
      "execution_count": null,
      "metadata": {
        "id": "AoOcMte-LsiL"
      },
      "outputs": [],
      "source": [
        "import gradio as gr\n",
        "from PIL import Image\n",
        "import requests\n",
        "from io import BytesIO\n",
        "import os\n",
        "from transformers import pipeline\n",
        "\n",
        "\n",
        "classifier = pipeline(\"image-classification\", model=OUTPUT_DIR)\n",
        "\n",
        "def classify_image(input_img=None, img_url=None):\n",
        "    \"\"\"\n",
        "    Accepts either an uploaded image (input_img) or an image URL (img_url).\n",
        "    \"\"\"\n",
        "    if img_url:  # If a URL is provided, fetch image from the internet\n",
        "        try:\n",
        "            response = requests.get(img_url)\n",
        "            response.raise_for_status()\n",
        "            img = Image.open(BytesIO(response.content)).convert(\"RGB\")\n",
        "        except Exception as e:\n",
        "            return {\"Error\": f\"Failed to load image from URL: {e}\"}\n",
        "    elif input_img:  # If uploaded image is provided\n",
        "        if not isinstance(input_img, Image.Image):\n",
        "            img = Image.fromarray(input_img)\n",
        "        else:\n",
        "            img = input_img\n",
        "    else:\n",
        "        return {\"Error\": \"No image provided.\"}\n",
        "\n",
        "    results = classifier(img)\n",
        "    return {res[\"label\"]: float(res[\"score\"]) for res in results}\n",
        "\n",
        "\n",
        "theme = gr.themes.Soft(\n",
        "    primary_hue=\"blue\",\n",
        "    secondary_hue=\"lime\",\n",
        "    neutral_hue=\"slate\"\n",
        ")\n",
        "\n",
        "with gr.Blocks(theme=theme) as demo:\n",
        "    gr.Markdown(\"## Image Classifier\")\n",
        "    gr.Markdown(\"Upload an image **or** enter an image URL to classify it using the model.\")\n",
        "\n",
        "    with gr.Row():\n",
        "        image_input = gr.Image(type=\"pil\", label=\"Upload Image\")\n",
        "        url_input = gr.Textbox(label=\"Image URL (optional)\", placeholder=\"Paste image URL here...\")\n",
        "        label_output = gr.Label(num_top_classes=3, label=\"Predictions\")\n",
        "\n",
        "    classify_btn = gr.Button(\"Classify Image\", variant=\"primary\")\n",
        "\n",
        "    gr.Examples(\n",
        "        examples=[f'./images_samples/{i}' for i in os.listdir('./images_samples')],\n",
        "        inputs=image_input,\n",
        "        outputs=label_output,\n",
        "        fn=classify_image,\n",
        "        cache_examples=False\n",
        "    )\n",
        "\n",
        "    classify_btn.click(\n",
        "        fn=classify_image,\n",
        "        inputs=[image_input, url_input],\n",
        "        outputs=label_output\n",
        "    )\n",
        "\n",
        "demo.launch(share=True)\n"
      ]
    },
    {
      "cell_type": "code",
      "source": [
        "!zip -r images_samples.zip /content/transformer-training/images_samples"
      ],
      "metadata": {
        "id": "yoIqmke0oQSf"
      },
      "execution_count": null,
      "outputs": []
    },
    {
      "cell_type": "code",
      "source": [
        "from google.colab import files\n",
        "files.download(\"images_samples.zip\")\n"
      ],
      "metadata": {
        "id": "A5cDC5XWokiA"
      },
      "execution_count": null,
      "outputs": []
    }
  ],
  "metadata": {
    "accelerator": "GPU",
    "colab": {
      "gpuType": "T4",
      "provenance": []
    },
    "kaggle": {
      "accelerator": "nvidiaTeslaT4",
      "dataSources": [
        {
          "datasetId": 7136367,
          "sourceId": 11394777,
          "sourceType": "datasetVersion"
        }
      ],
      "dockerImageVersionId": 31011,
      "isGpuEnabled": true,
      "isInternetEnabled": true,
      "language": "python",
      "sourceType": "notebook"
    },
    "kernelspec": {
      "display_name": "Python 3",
      "name": "python3"
    },
    "language_info": {
      "codemirror_mode": {
        "name": "ipython",
        "version": 3
      },
      "file_extension": ".py",
      "mimetype": "text/x-python",
      "name": "python",
      "nbconvert_exporter": "python",
      "pygments_lexer": "ipython3",
      "version": "3.11.11"
    }
  },
  "nbformat": 4,
  "nbformat_minor": 0
}